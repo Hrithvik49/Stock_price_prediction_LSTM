{
 "cells": [
  {
   "cell_type": "markdown",
   "metadata": {},
   "source": [
    "# Stock Price Prediction"
   ]
  },
  {
   "cell_type": "markdown",
   "metadata": {},
   "source": [
    "### Importing Libraries"
   ]
  },
  {
   "cell_type": "code",
   "execution_count": 1,
   "metadata": {},
   "outputs": [],
   "source": [
    "import pandas as pd\n",
    "import numpy as np\n",
    "%matplotlib inline\n",
    "import matplotlib.pyplot as plt\n",
    "import matplotlib\n",
    "from sklearn.preprocessing import MinMaxScaler\n",
    "from keras.layers import LSTM,Dense,Dropout\n",
    "from sklearn.model_selection import TimeSeriesSplit\n",
    "from sklearn.metrics import mean_squared_error, r2_score\n",
    "import matplotlib.dates as mdates\n",
    "from sklearn import linear_model\n"
   ]
  },
  {
   "cell_type": "markdown",
   "metadata": {},
   "source": [
    "# Reading data and see if the data is clean\n",
    "As it is timeseries data so we have to read the data by parsing date means making data column as index."
   ]
  },
  {
   "cell_type": "code",
   "execution_count": 367,
   "metadata": {},
   "outputs": [],
   "source": [
    "table_initial = pd.read_csv(\"TESLA.csv\",na_values=['null'],index_col='Date',parse_dates=True,infer_datetime_format=True)"
   ]
  },
  {
   "cell_type": "code",
   "execution_count": 368,
   "metadata": {},
   "outputs": [
    {
     "data": {
      "text/html": [
       "<div>\n",
       "<style scoped>\n",
       "    .dataframe tbody tr th:only-of-type {\n",
       "        vertical-align: middle;\n",
       "    }\n",
       "\n",
       "    .dataframe tbody tr th {\n",
       "        vertical-align: top;\n",
       "    }\n",
       "\n",
       "    .dataframe thead th {\n",
       "        text-align: right;\n",
       "    }\n",
       "</style>\n",
       "<table border=\"1\" class=\"dataframe\">\n",
       "  <thead>\n",
       "    <tr style=\"text-align: right;\">\n",
       "      <th></th>\n",
       "      <th>Open</th>\n",
       "      <th>High</th>\n",
       "      <th>Low</th>\n",
       "      <th>Close</th>\n",
       "      <th>Volume</th>\n",
       "      <th>Adj Close</th>\n",
       "    </tr>\n",
       "    <tr>\n",
       "      <th>Date</th>\n",
       "      <th></th>\n",
       "      <th></th>\n",
       "      <th></th>\n",
       "      <th></th>\n",
       "      <th></th>\n",
       "      <th></th>\n",
       "    </tr>\n",
       "  </thead>\n",
       "  <tbody>\n",
       "    <tr>\n",
       "      <th>2010-06-29</th>\n",
       "      <td>19.000000</td>\n",
       "      <td>25.00</td>\n",
       "      <td>17.540001</td>\n",
       "      <td>23.889999</td>\n",
       "      <td>18766300</td>\n",
       "      <td>23.889999</td>\n",
       "    </tr>\n",
       "    <tr>\n",
       "      <th>2010-06-30</th>\n",
       "      <td>25.790001</td>\n",
       "      <td>30.42</td>\n",
       "      <td>23.299999</td>\n",
       "      <td>23.830000</td>\n",
       "      <td>17187100</td>\n",
       "      <td>23.830000</td>\n",
       "    </tr>\n",
       "    <tr>\n",
       "      <th>2010-07-01</th>\n",
       "      <td>25.000000</td>\n",
       "      <td>25.92</td>\n",
       "      <td>20.270000</td>\n",
       "      <td>21.959999</td>\n",
       "      <td>8218800</td>\n",
       "      <td>21.959999</td>\n",
       "    </tr>\n",
       "    <tr>\n",
       "      <th>2010-07-02</th>\n",
       "      <td>23.000000</td>\n",
       "      <td>23.10</td>\n",
       "      <td>18.709999</td>\n",
       "      <td>19.200001</td>\n",
       "      <td>5139800</td>\n",
       "      <td>19.200001</td>\n",
       "    </tr>\n",
       "    <tr>\n",
       "      <th>2010-07-06</th>\n",
       "      <td>20.000000</td>\n",
       "      <td>20.00</td>\n",
       "      <td>15.830000</td>\n",
       "      <td>16.110001</td>\n",
       "      <td>6866900</td>\n",
       "      <td>16.110001</td>\n",
       "    </tr>\n",
       "  </tbody>\n",
       "</table>\n",
       "</div>"
      ],
      "text/plain": [
       "                 Open   High        Low      Close    Volume  Adj Close\n",
       "Date                                                                   \n",
       "2010-06-29  19.000000  25.00  17.540001  23.889999  18766300  23.889999\n",
       "2010-06-30  25.790001  30.42  23.299999  23.830000  17187100  23.830000\n",
       "2010-07-01  25.000000  25.92  20.270000  21.959999   8218800  21.959999\n",
       "2010-07-02  23.000000  23.10  18.709999  19.200001   5139800  19.200001\n",
       "2010-07-06  20.000000  20.00  15.830000  16.110001   6866900  16.110001"
      ]
     },
     "execution_count": 368,
     "metadata": {},
     "output_type": "execute_result"
    }
   ],
   "source": [
    "table_initial.head()"
   ]
  },
  {
   "cell_type": "code",
   "execution_count": 369,
   "metadata": {},
   "outputs": [
    {
     "data": {
      "text/plain": [
       "(1692, 6)"
      ]
     },
     "execution_count": 369,
     "metadata": {},
     "output_type": "execute_result"
    }
   ],
   "source": [
    "table_initial.shape"
   ]
  },
  {
   "cell_type": "code",
   "execution_count": 370,
   "metadata": {},
   "outputs": [
    {
     "data": {
      "text/html": [
       "<div>\n",
       "<style scoped>\n",
       "    .dataframe tbody tr th:only-of-type {\n",
       "        vertical-align: middle;\n",
       "    }\n",
       "\n",
       "    .dataframe tbody tr th {\n",
       "        vertical-align: top;\n",
       "    }\n",
       "\n",
       "    .dataframe thead th {\n",
       "        text-align: right;\n",
       "    }\n",
       "</style>\n",
       "<table border=\"1\" class=\"dataframe\">\n",
       "  <thead>\n",
       "    <tr style=\"text-align: right;\">\n",
       "      <th></th>\n",
       "      <th>Open</th>\n",
       "      <th>High</th>\n",
       "      <th>Low</th>\n",
       "      <th>Close</th>\n",
       "      <th>Volume</th>\n",
       "      <th>Adj Close</th>\n",
       "    </tr>\n",
       "  </thead>\n",
       "  <tbody>\n",
       "    <tr>\n",
       "      <th>count</th>\n",
       "      <td>1692.000000</td>\n",
       "      <td>1692.000000</td>\n",
       "      <td>1692.000000</td>\n",
       "      <td>1692.000000</td>\n",
       "      <td>1.692000e+03</td>\n",
       "      <td>1692.000000</td>\n",
       "    </tr>\n",
       "    <tr>\n",
       "      <th>mean</th>\n",
       "      <td>132.441572</td>\n",
       "      <td>134.769698</td>\n",
       "      <td>129.996223</td>\n",
       "      <td>132.428658</td>\n",
       "      <td>4.270741e+06</td>\n",
       "      <td>132.428658</td>\n",
       "    </tr>\n",
       "    <tr>\n",
       "      <th>std</th>\n",
       "      <td>94.309923</td>\n",
       "      <td>95.694914</td>\n",
       "      <td>92.855227</td>\n",
       "      <td>94.313187</td>\n",
       "      <td>4.295971e+06</td>\n",
       "      <td>94.313187</td>\n",
       "    </tr>\n",
       "    <tr>\n",
       "      <th>min</th>\n",
       "      <td>16.139999</td>\n",
       "      <td>16.629999</td>\n",
       "      <td>14.980000</td>\n",
       "      <td>15.800000</td>\n",
       "      <td>1.185000e+05</td>\n",
       "      <td>15.800000</td>\n",
       "    </tr>\n",
       "    <tr>\n",
       "      <th>25%</th>\n",
       "      <td>30.000000</td>\n",
       "      <td>30.650000</td>\n",
       "      <td>29.215000</td>\n",
       "      <td>29.884999</td>\n",
       "      <td>1.194350e+06</td>\n",
       "      <td>29.884999</td>\n",
       "    </tr>\n",
       "    <tr>\n",
       "      <th>50%</th>\n",
       "      <td>156.334999</td>\n",
       "      <td>162.370002</td>\n",
       "      <td>153.150002</td>\n",
       "      <td>158.160004</td>\n",
       "      <td>3.180700e+06</td>\n",
       "      <td>158.160004</td>\n",
       "    </tr>\n",
       "    <tr>\n",
       "      <th>75%</th>\n",
       "      <td>220.557495</td>\n",
       "      <td>224.099999</td>\n",
       "      <td>217.119999</td>\n",
       "      <td>220.022503</td>\n",
       "      <td>5.662100e+06</td>\n",
       "      <td>220.022503</td>\n",
       "    </tr>\n",
       "    <tr>\n",
       "      <th>max</th>\n",
       "      <td>287.670013</td>\n",
       "      <td>291.420013</td>\n",
       "      <td>280.399994</td>\n",
       "      <td>286.040009</td>\n",
       "      <td>3.716390e+07</td>\n",
       "      <td>286.040009</td>\n",
       "    </tr>\n",
       "  </tbody>\n",
       "</table>\n",
       "</div>"
      ],
      "text/plain": [
       "              Open         High          Low        Close        Volume  \\\n",
       "count  1692.000000  1692.000000  1692.000000  1692.000000  1.692000e+03   \n",
       "mean    132.441572   134.769698   129.996223   132.428658  4.270741e+06   \n",
       "std      94.309923    95.694914    92.855227    94.313187  4.295971e+06   \n",
       "min      16.139999    16.629999    14.980000    15.800000  1.185000e+05   \n",
       "25%      30.000000    30.650000    29.215000    29.884999  1.194350e+06   \n",
       "50%     156.334999   162.370002   153.150002   158.160004  3.180700e+06   \n",
       "75%     220.557495   224.099999   217.119999   220.022503  5.662100e+06   \n",
       "max     287.670013   291.420013   280.399994   286.040009  3.716390e+07   \n",
       "\n",
       "         Adj Close  \n",
       "count  1692.000000  \n",
       "mean    132.428658  \n",
       "std      94.313187  \n",
       "min      15.800000  \n",
       "25%      29.884999  \n",
       "50%     158.160004  \n",
       "75%     220.022503  \n",
       "max     286.040009  "
      ]
     },
     "execution_count": 370,
     "metadata": {},
     "output_type": "execute_result"
    }
   ],
   "source": [
    "table_initial.describe()"
   ]
  },
  {
   "cell_type": "code",
   "execution_count": 371,
   "metadata": {
    "scrolled": true
   },
   "outputs": [
    {
     "data": {
      "text/plain": [
       "False"
      ]
     },
     "execution_count": 371,
     "metadata": {},
     "output_type": "execute_result"
    }
   ],
   "source": [
    "table_initial.isnull().values.any()"
   ]
  },
  {
   "cell_type": "code",
   "execution_count": 401,
   "metadata": {},
   "outputs": [
    {
     "data": {
      "text/plain": [
       "<AxesSubplot:xlabel='Date'>"
      ]
     },
     "execution_count": 401,
     "metadata": {},
     "output_type": "execute_result"
    },
    {
     "data": {
      "image/png": "[encoded data removed]",
      "text/plain": [
       "<Figure size 432x288 with 1 Axes>"
      ]
     },
     "metadata": {
      "needs_background": "light"
     },
     "output_type": "display_data"
    }
   ],
   "source": [
    "table_initial['Adj Close'].plot(color='red')"
   ]
  },
  {
   "cell_type": "markdown",
   "metadata": {},
   "source": [
    "# Correlation Analysis"
   ]
  },
  {
   "cell_type": "code",
   "execution_count": 373,
   "metadata": {},
   "outputs": [],
   "source": [
    "X=table_inital.drop(['Adj Close'],axis=1)\n",
    "X=X.drop(['Close'],axis=1)"
   ]
  },
  {
   "cell_type": "code",
   "execution_count": 417,
   "metadata": {},
   "outputs": [
    {
     "data": {
      "text/plain": [
       "<AxesSubplot:title={'center':'Correlation Bar Graph with Adj Close and (Open, High and Low)'}>"
      ]
     },
     "execution_count": 417,
     "metadata": {},
     "output_type": "execute_result"
    },
    {
     "data": {
      "image/png": "[encoded data removed]",
      "text/plain": [
       "<Figure size 1440x720 with 1 Axes>"
      ]
     },
     "metadata": {
      "needs_background": "light"
     },
     "output_type": "display_data"
    }
   ],
   "source": [
    "X.corrwith(table_initial['Adj Close']).plot.bar(\n",
    "        figsize = (20, 10), title = \"Correlation Bar Graph with Adj Close and (Open, High and Low)\", fontsize = 20,\n",
    "        rot = 90, grid = False)"
   ]
  },
  {
   "cell_type": "code",
   "execution_count": 375,
   "metadata": {},
   "outputs": [
    {
     "data": {
      "text/html": [
       "<div>\n",
       "<style scoped>\n",
       "    .dataframe tbody tr th:only-of-type {\n",
       "        vertical-align: middle;\n",
       "    }\n",
       "\n",
       "    .dataframe tbody tr th {\n",
       "        vertical-align: top;\n",
       "    }\n",
       "\n",
       "    .dataframe thead th {\n",
       "        text-align: right;\n",
       "    }\n",
       "</style>\n",
       "<table border=\"1\" class=\"dataframe\">\n",
       "  <thead>\n",
       "    <tr style=\"text-align: right;\">\n",
       "      <th></th>\n",
       "      <th>Open</th>\n",
       "      <th>High</th>\n",
       "      <th>Low</th>\n",
       "      <th>Close</th>\n",
       "      <th>Volume</th>\n",
       "      <th>Adj Close</th>\n",
       "    </tr>\n",
       "    <tr>\n",
       "      <th>Date</th>\n",
       "      <th></th>\n",
       "      <th></th>\n",
       "      <th></th>\n",
       "      <th></th>\n",
       "      <th></th>\n",
       "      <th></th>\n",
       "    </tr>\n",
       "  </thead>\n",
       "  <tbody>\n",
       "    <tr>\n",
       "      <th>2010-06-29</th>\n",
       "      <td>19.000000</td>\n",
       "      <td>25.00</td>\n",
       "      <td>17.540001</td>\n",
       "      <td>23.889999</td>\n",
       "      <td>18766300</td>\n",
       "      <td>23.889999</td>\n",
       "    </tr>\n",
       "    <tr>\n",
       "      <th>2010-06-30</th>\n",
       "      <td>25.790001</td>\n",
       "      <td>30.42</td>\n",
       "      <td>23.299999</td>\n",
       "      <td>23.830000</td>\n",
       "      <td>17187100</td>\n",
       "      <td>23.830000</td>\n",
       "    </tr>\n",
       "    <tr>\n",
       "      <th>2010-07-01</th>\n",
       "      <td>25.000000</td>\n",
       "      <td>25.92</td>\n",
       "      <td>20.270000</td>\n",
       "      <td>21.959999</td>\n",
       "      <td>8218800</td>\n",
       "      <td>21.959999</td>\n",
       "    </tr>\n",
       "    <tr>\n",
       "      <th>2010-07-02</th>\n",
       "      <td>23.000000</td>\n",
       "      <td>23.10</td>\n",
       "      <td>18.709999</td>\n",
       "      <td>19.200001</td>\n",
       "      <td>5139800</td>\n",
       "      <td>19.200001</td>\n",
       "    </tr>\n",
       "    <tr>\n",
       "      <th>2010-07-06</th>\n",
       "      <td>20.000000</td>\n",
       "      <td>20.00</td>\n",
       "      <td>15.830000</td>\n",
       "      <td>16.110001</td>\n",
       "      <td>6866900</td>\n",
       "      <td>16.110001</td>\n",
       "    </tr>\n",
       "  </tbody>\n",
       "</table>\n",
       "</div>"
      ],
      "text/plain": [
       "                 Open   High        Low      Close    Volume  Adj Close\n",
       "Date                                                                   \n",
       "2010-06-29  19.000000  25.00  17.540001  23.889999  18766300  23.889999\n",
       "2010-06-30  25.790001  30.42  23.299999  23.830000  17187100  23.830000\n",
       "2010-07-01  25.000000  25.92  20.270000  21.959999   8218800  21.959999\n",
       "2010-07-02  23.000000  23.10  18.709999  19.200001   5139800  19.200001\n",
       "2010-07-06  20.000000  20.00  15.830000  16.110001   6866900  16.110001"
      ]
     },
     "metadata": {},
     "output_type": "display_data"
    }
   ],
   "source": [
    "test = table_initial\n",
    "# Target column\n",
    "target_adj_close = pd.DataFrame(test['Adj Close'])\n",
    "display(test.head())"
   ]
  },
  {
   "cell_type": "code",
   "execution_count": 346,
   "metadata": {},
   "outputs": [],
   "source": [
    "# selecting Feature Columns\n",
    "feature_columns = ['Open', 'High', 'Low', 'Volume']"
   ]
  },
  {
   "cell_type": "markdown",
   "metadata": {},
   "source": [
    "# Normalizing the data"
   ]
  },
  {
   "cell_type": "code",
   "execution_count": 347,
   "metadata": {},
   "outputs": [
    {
     "data": {
      "text/html": [
       "<div>\n",
       "<style scoped>\n",
       "    .dataframe tbody tr th:only-of-type {\n",
       "        vertical-align: middle;\n",
       "    }\n",
       "\n",
       "    .dataframe tbody tr th {\n",
       "        vertical-align: top;\n",
       "    }\n",
       "\n",
       "    .dataframe thead th {\n",
       "        text-align: right;\n",
       "    }\n",
       "</style>\n",
       "<table border=\"1\" class=\"dataframe\">\n",
       "  <thead>\n",
       "    <tr style=\"text-align: right;\">\n",
       "      <th></th>\n",
       "      <th>Open</th>\n",
       "      <th>High</th>\n",
       "      <th>Low</th>\n",
       "      <th>Volume</th>\n",
       "    </tr>\n",
       "    <tr>\n",
       "      <th>Date</th>\n",
       "      <th></th>\n",
       "      <th></th>\n",
       "      <th></th>\n",
       "      <th></th>\n",
       "    </tr>\n",
       "  </thead>\n",
       "  <tbody>\n",
       "    <tr>\n",
       "      <th>2010-06-29</th>\n",
       "      <td>0.010533</td>\n",
       "      <td>0.030460</td>\n",
       "      <td>0.009645</td>\n",
       "      <td>0.503377</td>\n",
       "    </tr>\n",
       "    <tr>\n",
       "      <th>2010-06-30</th>\n",
       "      <td>0.035539</td>\n",
       "      <td>0.050184</td>\n",
       "      <td>0.031347</td>\n",
       "      <td>0.460748</td>\n",
       "    </tr>\n",
       "    <tr>\n",
       "      <th>2010-07-01</th>\n",
       "      <td>0.032630</td>\n",
       "      <td>0.033808</td>\n",
       "      <td>0.019931</td>\n",
       "      <td>0.218659</td>\n",
       "    </tr>\n",
       "    <tr>\n",
       "      <th>2010-07-02</th>\n",
       "      <td>0.025264</td>\n",
       "      <td>0.023545</td>\n",
       "      <td>0.014053</td>\n",
       "      <td>0.135544</td>\n",
       "    </tr>\n",
       "    <tr>\n",
       "      <th>2010-07-06</th>\n",
       "      <td>0.014216</td>\n",
       "      <td>0.012264</td>\n",
       "      <td>0.003202</td>\n",
       "      <td>0.182166</td>\n",
       "    </tr>\n",
       "  </tbody>\n",
       "</table>\n",
       "</div>"
      ],
      "text/plain": [
       "                Open      High       Low    Volume\n",
       "Date                                              \n",
       "2010-06-29  0.010533  0.030460  0.009645  0.503377\n",
       "2010-06-30  0.035539  0.050184  0.031347  0.460748\n",
       "2010-07-01  0.032630  0.033808  0.019931  0.218659\n",
       "2010-07-02  0.025264  0.023545  0.014053  0.135544\n",
       "2010-07-06  0.014216  0.012264  0.003202  0.182166"
      ]
     },
     "execution_count": 347,
     "metadata": {},
     "output_type": "execute_result"
    }
   ],
   "source": [
    "from sklearn.preprocessing import MinMaxScaler\n",
    "scaler = MinMaxScaler()\n",
    "feature_minmax_transform_data = scaler.fit_transform(test[feature_columns])\n",
    "feature_minmax_transform = pd.DataFrame(columns=feature_columns, data=feature_minmax_transform_data, index=test.index)\n",
    "feature_minmax_transform.head()"
   ]
  },
  {
   "cell_type": "code",
   "execution_count": 348,
   "metadata": {},
   "outputs": [
    {
     "data": {
      "text/html": [
       "<div>\n",
       "<style scoped>\n",
       "    .dataframe tbody tr th:only-of-type {\n",
       "        vertical-align: middle;\n",
       "    }\n",
       "\n",
       "    .dataframe tbody tr th {\n",
       "        vertical-align: top;\n",
       "    }\n",
       "\n",
       "    .dataframe thead th {\n",
       "        text-align: right;\n",
       "    }\n",
       "</style>\n",
       "<table border=\"1\" class=\"dataframe\">\n",
       "  <thead>\n",
       "    <tr style=\"text-align: right;\">\n",
       "      <th></th>\n",
       "      <th>Open</th>\n",
       "      <th>High</th>\n",
       "      <th>Low</th>\n",
       "      <th>Volume</th>\n",
       "    </tr>\n",
       "    <tr>\n",
       "      <th>Date</th>\n",
       "      <th></th>\n",
       "      <th></th>\n",
       "      <th></th>\n",
       "      <th></th>\n",
       "    </tr>\n",
       "  </thead>\n",
       "  <tbody>\n",
       "    <tr>\n",
       "      <th>2010-06-29</th>\n",
       "      <td>0.010533</td>\n",
       "      <td>0.030460</td>\n",
       "      <td>0.009645</td>\n",
       "      <td>0.503377</td>\n",
       "    </tr>\n",
       "    <tr>\n",
       "      <th>2010-06-30</th>\n",
       "      <td>0.035539</td>\n",
       "      <td>0.050184</td>\n",
       "      <td>0.031347</td>\n",
       "      <td>0.460748</td>\n",
       "    </tr>\n",
       "    <tr>\n",
       "      <th>2010-07-01</th>\n",
       "      <td>0.032630</td>\n",
       "      <td>0.033808</td>\n",
       "      <td>0.019931</td>\n",
       "      <td>0.218659</td>\n",
       "    </tr>\n",
       "    <tr>\n",
       "      <th>2010-07-02</th>\n",
       "      <td>0.025264</td>\n",
       "      <td>0.023545</td>\n",
       "      <td>0.014053</td>\n",
       "      <td>0.135544</td>\n",
       "    </tr>\n",
       "    <tr>\n",
       "      <th>2010-07-06</th>\n",
       "      <td>0.014216</td>\n",
       "      <td>0.012264</td>\n",
       "      <td>0.003202</td>\n",
       "      <td>0.182166</td>\n",
       "    </tr>\n",
       "  </tbody>\n",
       "</table>\n",
       "</div>"
      ],
      "text/plain": [
       "                Open      High       Low    Volume\n",
       "Date                                              \n",
       "2010-06-29  0.010533  0.030460  0.009645  0.503377\n",
       "2010-06-30  0.035539  0.050184  0.031347  0.460748\n",
       "2010-07-01  0.032630  0.033808  0.019931  0.218659\n",
       "2010-07-02  0.025264  0.023545  0.014053  0.135544\n",
       "2010-07-06  0.014216  0.012264  0.003202  0.182166"
      ]
     },
     "metadata": {},
     "output_type": "display_data"
    },
    {
     "name": "stdout",
     "output_type": "stream",
     "text": [
      "Shape of features :  (1692, 4)\n",
      "Shape of target :  (1692, 1)\n"
     ]
    },
    {
     "data": {
      "text/html": [
       "<div>\n",
       "<style scoped>\n",
       "    .dataframe tbody tr th:only-of-type {\n",
       "        vertical-align: middle;\n",
       "    }\n",
       "\n",
       "    .dataframe tbody tr th {\n",
       "        vertical-align: top;\n",
       "    }\n",
       "\n",
       "    .dataframe thead th {\n",
       "        text-align: right;\n",
       "    }\n",
       "</style>\n",
       "<table border=\"1\" class=\"dataframe\">\n",
       "  <thead>\n",
       "    <tr style=\"text-align: right;\">\n",
       "      <th></th>\n",
       "      <th>Open</th>\n",
       "      <th>High</th>\n",
       "      <th>Low</th>\n",
       "      <th>Volume</th>\n",
       "    </tr>\n",
       "    <tr>\n",
       "      <th>Date</th>\n",
       "      <th></th>\n",
       "      <th></th>\n",
       "      <th></th>\n",
       "      <th></th>\n",
       "    </tr>\n",
       "  </thead>\n",
       "  <tbody>\n",
       "    <tr>\n",
       "      <th>2017-03-10</th>\n",
       "      <td>0.847310</td>\n",
       "      <td>0.836530</td>\n",
       "      <td>0.859091</td>\n",
       "      <td>0.079322</td>\n",
       "    </tr>\n",
       "    <tr>\n",
       "      <th>2017-03-13</th>\n",
       "      <td>0.842191</td>\n",
       "      <td>0.837803</td>\n",
       "      <td>0.858262</td>\n",
       "      <td>0.078072</td>\n",
       "    </tr>\n",
       "    <tr>\n",
       "      <th>2017-03-14</th>\n",
       "      <td>0.846941</td>\n",
       "      <td>0.878816</td>\n",
       "      <td>0.870469</td>\n",
       "      <td>0.201294</td>\n",
       "    </tr>\n",
       "    <tr>\n",
       "      <th>2017-03-15</th>\n",
       "      <td>0.887047</td>\n",
       "      <td>0.889297</td>\n",
       "      <td>0.901552</td>\n",
       "      <td>0.126820</td>\n",
       "    </tr>\n",
       "    <tr>\n",
       "      <th>2017-03-16</th>\n",
       "      <td>0.906935</td>\n",
       "      <td>0.906583</td>\n",
       "      <td>0.919599</td>\n",
       "      <td>0.188469</td>\n",
       "    </tr>\n",
       "  </tbody>\n",
       "</table>\n",
       "</div>"
      ],
      "text/plain": [
       "                Open      High       Low    Volume\n",
       "Date                                              \n",
       "2017-03-10  0.847310  0.836530  0.859091  0.079322\n",
       "2017-03-13  0.842191  0.837803  0.858262  0.078072\n",
       "2017-03-14  0.846941  0.878816  0.870469  0.201294\n",
       "2017-03-15  0.887047  0.889297  0.901552  0.126820\n",
       "2017-03-16  0.906935  0.906583  0.919599  0.188469"
      ]
     },
     "metadata": {},
     "output_type": "display_data"
    },
    {
     "data": {
      "text/html": [
       "<div>\n",
       "<style scoped>\n",
       "    .dataframe tbody tr th:only-of-type {\n",
       "        vertical-align: middle;\n",
       "    }\n",
       "\n",
       "    .dataframe tbody tr th {\n",
       "        vertical-align: top;\n",
       "    }\n",
       "\n",
       "    .dataframe thead th {\n",
       "        text-align: right;\n",
       "    }\n",
       "</style>\n",
       "<table border=\"1\" class=\"dataframe\">\n",
       "  <thead>\n",
       "    <tr style=\"text-align: right;\">\n",
       "      <th></th>\n",
       "      <th>Adj Close</th>\n",
       "    </tr>\n",
       "    <tr>\n",
       "      <th>Date</th>\n",
       "      <th></th>\n",
       "    </tr>\n",
       "  </thead>\n",
       "  <tbody>\n",
       "    <tr>\n",
       "      <th>2017-03-10</th>\n",
       "      <td>246.169998</td>\n",
       "    </tr>\n",
       "    <tr>\n",
       "      <th>2017-03-13</th>\n",
       "      <td>258.000000</td>\n",
       "    </tr>\n",
       "    <tr>\n",
       "      <th>2017-03-14</th>\n",
       "      <td>255.729996</td>\n",
       "    </tr>\n",
       "    <tr>\n",
       "      <th>2017-03-15</th>\n",
       "      <td>262.049988</td>\n",
       "    </tr>\n",
       "    <tr>\n",
       "      <th>2017-03-16</th>\n",
       "      <td>261.500000</td>\n",
       "    </tr>\n",
       "  </tbody>\n",
       "</table>\n",
       "</div>"
      ],
      "text/plain": [
       "             Adj Close\n",
       "Date                  \n",
       "2017-03-10  246.169998\n",
       "2017-03-13  258.000000\n",
       "2017-03-14  255.729996\n",
       "2017-03-15  262.049988\n",
       "2017-03-16  261.500000"
      ]
     },
     "metadata": {},
     "output_type": "display_data"
    },
    {
     "name": "stdout",
     "output_type": "stream",
     "text": [
      "\n",
      " -----After process------ \n",
      "\n",
      "Shape of features :  (1602, 4)\n",
      "Shape of target :  (1602, 1)\n"
     ]
    },
    {
     "data": {
      "text/html": [
       "<div>\n",
       "<style scoped>\n",
       "    .dataframe tbody tr th:only-of-type {\n",
       "        vertical-align: middle;\n",
       "    }\n",
       "\n",
       "    .dataframe tbody tr th {\n",
       "        vertical-align: top;\n",
       "    }\n",
       "\n",
       "    .dataframe thead th {\n",
       "        text-align: right;\n",
       "    }\n",
       "</style>\n",
       "<table border=\"1\" class=\"dataframe\">\n",
       "  <thead>\n",
       "    <tr style=\"text-align: right;\">\n",
       "      <th></th>\n",
       "      <th>Adj Close</th>\n",
       "    </tr>\n",
       "    <tr>\n",
       "      <th>Date</th>\n",
       "      <th></th>\n",
       "    </tr>\n",
       "  </thead>\n",
       "  <tbody>\n",
       "    <tr>\n",
       "      <th>2016-10-31</th>\n",
       "      <td>190.789993</td>\n",
       "    </tr>\n",
       "    <tr>\n",
       "      <th>2016-11-01</th>\n",
       "      <td>188.020004</td>\n",
       "    </tr>\n",
       "    <tr>\n",
       "      <th>2016-11-02</th>\n",
       "      <td>187.419998</td>\n",
       "    </tr>\n",
       "    <tr>\n",
       "      <th>2016-11-03</th>\n",
       "      <td>190.559998</td>\n",
       "    </tr>\n",
       "    <tr>\n",
       "      <th>2016-11-04</th>\n",
       "      <td>193.210007</td>\n",
       "    </tr>\n",
       "  </tbody>\n",
       "</table>\n",
       "</div>"
      ],
      "text/plain": [
       "             Adj Close\n",
       "Date                  \n",
       "2016-10-31  190.789993\n",
       "2016-11-01  188.020004\n",
       "2016-11-02  187.419998\n",
       "2016-11-03  190.559998\n",
       "2016-11-04  193.210007"
      ]
     },
     "metadata": {},
     "output_type": "display_data"
    }
   ],
   "source": [
    "display(feature_minmax_transform.head())\n",
    "print('Shape of features : ', feature_minmax_transform.shape)\n",
    "print('Shape of target : ', target_adj_close.shape)\n",
    "\n",
    "# Shift target array because we want to predict the n + 1 day value\n",
    "\n",
    "\n",
    "target_adj_close = target_adj_close.shift(-1)\n",
    "validation_y = target_adj_close[-90:-1]\n",
    "target_adj_close = target_adj_close[:-90]\n",
    "\n",
    "# Taking last 90 rows of data to be validation set\n",
    "validation_X = feature_minmax_transform[-90:-1]\n",
    "feature_minmax_transform = feature_minmax_transform[:-90]\n",
    "display(validation_X.tail())\n",
    "display(validation_y.tail())\n",
    "\n",
    "print(\"\\n -----After process------ \\n\")\n",
    "print('Shape of features : ', feature_minmax_transform.shape)\n",
    "print('Shape of target : ', target_adj_close.shape)\n",
    "display(target_adj_close.tail())"
   ]
  },
  {
   "cell_type": "markdown",
   "metadata": {},
   "source": [
    "# Train test Split using Timeseriessplit"
   ]
  },
  {
   "cell_type": "code",
   "execution_count": 349,
   "metadata": {},
   "outputs": [],
   "source": [
    "ts_split= TimeSeriesSplit(n_splits=10)\n",
    "for train_index, test_index in ts_split.split(feature_minmax_transform):\n",
    "        X_train, X_test = feature_minmax_transform[:len(train_index)], feature_minmax_transform[len(train_index): (len(train_index)+len(test_index))]\n",
    "        y_train, y_test = target_adj_close[:len(train_index)].values.ravel(), target_adj_close[len(train_index): (len(train_index)+len(test_index))].values.ravel()"
   ]
  },
  {
   "cell_type": "code",
   "execution_count": 350,
   "metadata": {},
   "outputs": [
    {
     "data": {
      "text/plain": [
       "(1457, 4)"
      ]
     },
     "execution_count": 350,
     "metadata": {},
     "output_type": "execute_result"
    }
   ],
   "source": [
    "X_train.shape"
   ]
  },
  {
   "cell_type": "code",
   "execution_count": 351,
   "metadata": {},
   "outputs": [
    {
     "data": {
      "text/plain": [
       "(145, 4)"
      ]
     },
     "execution_count": 351,
     "metadata": {},
     "output_type": "execute_result"
    }
   ],
   "source": [
    "X_test.shape"
   ]
  },
  {
   "cell_type": "code",
   "execution_count": 352,
   "metadata": {},
   "outputs": [
    {
     "data": {
      "text/plain": [
       "(1457,)"
      ]
     },
     "execution_count": 352,
     "metadata": {},
     "output_type": "execute_result"
    }
   ],
   "source": [
    "y_train.shape"
   ]
  },
  {
   "cell_type": "code",
   "execution_count": 353,
   "metadata": {},
   "outputs": [
    {
     "data": {
      "text/plain": [
       "(145,)"
      ]
     },
     "execution_count": 353,
     "metadata": {},
     "output_type": "execute_result"
    }
   ],
   "source": [
    "y_test.shape"
   ]
  },
  {
   "cell_type": "code",
   "execution_count": 415,
   "metadata": {},
   "outputs": [],
   "source": [
    "def validate_result(model, model_name):\n",
    "    predicted = model.predict(validation_X)\n",
    "    RSME_score = np.sqrt(mean_squared_error(validation_y, predicted))\n",
    "    print('RMSE: ', RSME_score)\n",
    "    \n",
    "    R2_score = r2_score(validation_y, predicted)\n",
    "    print('R2 score: ', R2_score)\n",
    "\n",
    "    plt.plot(validation_y.index, predicted,'r', label='Predict', color='orange')\n",
    "    plt.plot(validation_y.index, validation_y,'b', label='Actual', color='blue')\n",
    "    plt.ylabel('Price')\n",
    "    plt.gca().xaxis.set_major_formatter(mdates.DateFormatter('%Y-%m-%d'))\n",
    "    plt.gca().xaxis.set_major_locator(mdates.MonthLocator())\n",
    "    plt.title(model_name + ' Predict vs Actual')\n",
    "    plt.legend(loc='upper right')\n",
    "    plt.show()"
   ]
  },
  {
   "cell_type": "markdown",
   "metadata": {},
   "source": [
    "# Benchmark Model"
   ]
  },
  {
   "cell_type": "code",
   "execution_count": 416,
   "metadata": {},
   "outputs": [
    {
     "name": "stdout",
     "output_type": "stream",
     "text": [
      "RMSE:  8.98541080906722\n",
      "R2 score:  0.9133516671221169\n"
     ]
    },
    {
     "name": "stderr",
     "output_type": "stream",
     "text": [
      "C:\\Users\\hrith\\anaconda3\\lib\\site-packages\\sklearn\\base.py:438: UserWarning: X has feature names, but DecisionTreeRegressor was fitted without feature names\n",
      "  warnings.warn(\n",
      "<ipython-input-415-26ff4db80fbd>:9: UserWarning: color is redundantly defined by the 'color' keyword argument and the fmt string \"r\" (-> color=(1.0, 0.0, 0.0, 1)). The keyword argument will take precedence.\n",
      "  plt.plot(validation_y.index, predicted,'r', label='Predict', color='orange')\n",
      "<ipython-input-415-26ff4db80fbd>:10: UserWarning: color is redundantly defined by the 'color' keyword argument and the fmt string \"b\" (-> color=(0.0, 0.0, 1.0, 1)). The keyword argument will take precedence.\n",
      "  plt.plot(validation_y.index, validation_y,'b', label='Actual', color='blue')\n"
     ]
    },
    {
     "data": {
      "image/png": "[encoded data removed]",
      "text/plain": [
       "<Figure size 432x288 with 1 Axes>"
      ]
     },
     "metadata": {
      "needs_background": "light"
     },
     "output_type": "display_data"
    }
   ],
   "source": [
    "from sklearn.tree import DecisionTreeRegressor\n",
    "\n",
    "dt = DecisionTreeRegressor(random_state=0)\n",
    "\n",
    "benchmark_dt=dt.fit(X_train, y_train)\n",
    "\n",
    "validate_result(benchmark_dt, 'Decision Tree Regression')"
   ]
  },
  {
   "cell_type": "markdown",
   "metadata": {},
   "source": [
    "# Process the data for LSTM"
   ]
  },
  {
   "cell_type": "code",
   "execution_count": 357,
   "metadata": {},
   "outputs": [],
   "source": [
    "X_train =np.array(X_train)\n",
    "X_test =np.array(X_test)\n",
    "\n",
    "X_tr_t = X_train.reshape(X_train.shape[0], 1, X_train.shape[1])\n",
    "X_tst_t = X_test.reshape(X_test.shape[0], 1, X_test.shape[1])"
   ]
  },
  {
   "cell_type": "markdown",
   "metadata": {},
   "source": [
    "# Model building : LSTM"
   ]
  },
  {
   "cell_type": "code",
   "execution_count": 358,
   "metadata": {},
   "outputs": [
    {
     "name": "stdout",
     "output_type": "stream",
     "text": [
      "Epoch 1/200\n",
      "183/183 [==============================] - 1s 2ms/step - loss: 22703.1211\n",
      "Epoch 2/200\n",
      "183/183 [==============================] - 0s 2ms/step - loss: 22523.4668\n",
      "Epoch 3/200\n",
      "183/183 [==============================] - 0s 2ms/step - loss: 22194.2891\n",
      "Epoch 4/200\n",
      "183/183 [==============================] - 0s 2ms/step - loss: 21714.8926\n",
      "Epoch 5/200\n",
      "183/183 [==============================] - 0s 2ms/step - loss: 21119.1523\n",
      "Epoch 6/200\n",
      "183/183 [==============================] - 0s 2ms/step - loss: 20435.5957\n",
      "Epoch 7/200\n",
      "183/183 [==============================] - 0s 2ms/step - loss: 19683.6211\n",
      "Epoch 8/200\n",
      "183/183 [==============================] - 0s 2ms/step - loss: 18877.3633\n",
      "Epoch 9/200\n",
      "183/183 [==============================] - 0s 2ms/step - loss: 18028.3574\n",
      "Epoch 10/200\n",
      "183/183 [==============================] - 0s 2ms/step - loss: 17146.7598\n",
      "Epoch 11/200\n",
      "183/183 [==============================] - 0s 2ms/step - loss: 16241.8467\n",
      "Epoch 12/200\n",
      "183/183 [==============================] - 0s 2ms/step - loss: 15322.2363\n",
      "Epoch 13/200\n",
      "183/183 [==============================] - 0s 2ms/step - loss: 14395.9707\n",
      "Epoch 14/200\n",
      "183/183 [==============================] - 0s 2ms/step - loss: 13470.5166\n",
      "Epoch 15/200\n",
      "183/183 [==============================] - 0s 2ms/step - loss: 12552.7988\n",
      "Epoch 16/200\n",
      "183/183 [==============================] - 0s 2ms/step - loss: 11649.1719\n",
      "Epoch 17/200\n",
      "183/183 [==============================] - 0s 2ms/step - loss: 10765.4492\n",
      "Epoch 18/200\n",
      "183/183 [==============================] - 0s 2ms/step - loss: 9906.8691\n",
      "Epoch 19/200\n",
      "183/183 [==============================] - 0s 2ms/step - loss: 9078.1045\n",
      "Epoch 20/200\n",
      "183/183 [==============================] - 0s 2ms/step - loss: 8283.2139\n",
      "Epoch 21/200\n",
      "183/183 [==============================] - 0s 2ms/step - loss: 7525.6616\n",
      "Epoch 22/200\n",
      "183/183 [==============================] - 0s 2ms/step - loss: 6808.2329\n",
      "Epoch 23/200\n",
      "183/183 [==============================] - 0s 2ms/step - loss: 6132.9810\n",
      "Epoch 24/200\n",
      "183/183 [==============================] - 0s 2ms/step - loss: 5501.1494\n",
      "Epoch 25/200\n",
      "183/183 [==============================] - 0s 2ms/step - loss: 4913.0967\n",
      "Epoch 26/200\n",
      "183/183 [==============================] - 0s 2ms/step - loss: 4368.2231\n",
      "Epoch 27/200\n",
      "183/183 [==============================] - 0s 2ms/step - loss: 3865.1296\n",
      "Epoch 28/200\n",
      "183/183 [==============================] - 0s 2ms/step - loss: 3401.8257\n",
      "Epoch 29/200\n",
      "183/183 [==============================] - 0s 2ms/step - loss: 2976.0835\n",
      "Epoch 30/200\n",
      "183/183 [==============================] - 0s 2ms/step - loss: 2585.7219\n",
      "Epoch 31/200\n",
      "183/183 [==============================] - 0s 2ms/step - loss: 2228.8931\n",
      "Epoch 32/200\n",
      "183/183 [==============================] - 0s 2ms/step - loss: 1904.2036\n",
      "Epoch 33/200\n",
      "183/183 [==============================] - 0s 2ms/step - loss: 1610.7994\n",
      "Epoch 34/200\n",
      "183/183 [==============================] - 0s 2ms/step - loss: 1348.2625\n",
      "Epoch 35/200\n",
      "183/183 [==============================] - 0s 2ms/step - loss: 1116.3497\n",
      "Epoch 36/200\n",
      "183/183 [==============================] - 0s 2ms/step - loss: 914.7128\n",
      "Epoch 37/200\n",
      "183/183 [==============================] - 0s 2ms/step - loss: 742.5931\n",
      "Epoch 38/200\n",
      "183/183 [==============================] - 0s 2ms/step - loss: 598.6548\n",
      "Epoch 39/200\n",
      "183/183 [==============================] - 0s 2ms/step - loss: 480.9420\n",
      "Epoch 40/200\n",
      "183/183 [==============================] - 0s 2ms/step - loss: 386.9185\n",
      "Epoch 41/200\n",
      "183/183 [==============================] - 0s 2ms/step - loss: 313.6302\n",
      "Epoch 42/200\n",
      "183/183 [==============================] - 0s 2ms/step - loss: 257.8779\n",
      "Epoch 43/200\n",
      "183/183 [==============================] - 0s 2ms/step - loss: 216.4268\n",
      "Epoch 44/200\n",
      "183/183 [==============================] - 0s 2ms/step - loss: 186.1902\n",
      "Epoch 45/200\n",
      "183/183 [==============================] - 0s 2ms/step - loss: 164.3955\n",
      "Epoch 46/200\n",
      "183/183 [==============================] - 0s 2ms/step - loss: 148.6812\n",
      "Epoch 47/200\n",
      "183/183 [==============================] - 0s 2ms/step - loss: 137.1515\n",
      "Epoch 48/200\n",
      "183/183 [==============================] - 0s 2ms/step - loss: 128.3723\n",
      "Epoch 49/200\n",
      "183/183 [==============================] - 0s 2ms/step - loss: 121.3221\n",
      "Epoch 50/200\n",
      "183/183 [==============================] - 0s 2ms/step - loss: 115.3201\n",
      "Epoch 51/200\n",
      "183/183 [==============================] - 0s 2ms/step - loss: 109.9399\n",
      "Epoch 52/200\n",
      "183/183 [==============================] - 0s 2ms/step - loss: 104.9329\n",
      "Epoch 53/200\n",
      "183/183 [==============================] - 0s 2ms/step - loss: 100.1651\n",
      "Epoch 54/200\n",
      "183/183 [==============================] - 0s 2ms/step - loss: 95.5706\n",
      "Epoch 55/200\n",
      "183/183 [==============================] - 0s 2ms/step - loss: 91.1217\n",
      "Epoch 56/200\n",
      "183/183 [==============================] - 0s 2ms/step - loss: 86.8108\n",
      "Epoch 57/200\n",
      "183/183 [==============================] - 0s 2ms/step - loss: 82.6402\n",
      "Epoch 58/200\n",
      "183/183 [==============================] - 0s 2ms/step - loss: 78.6163\n",
      "Epoch 59/200\n",
      "183/183 [==============================] - 0s 2ms/step - loss: 74.7476\n",
      "Epoch 60/200\n",
      "183/183 [==============================] - 0s 2ms/step - loss: 71.0424\n",
      "Epoch 61/200\n",
      "183/183 [==============================] - 0s 2ms/step - loss: 67.5094\n",
      "Epoch 62/200\n",
      "183/183 [==============================] - 0s 2ms/step - loss: 64.1561\n",
      "Epoch 63/200\n",
      "183/183 [==============================] - 0s 2ms/step - loss: 60.9894\n",
      "Epoch 64/200\n",
      "183/183 [==============================] - 0s 2ms/step - loss: 58.0155\n",
      "Epoch 65/200\n",
      "183/183 [==============================] - 0s 2ms/step - loss: 55.2387\n",
      "Epoch 66/200\n",
      "183/183 [==============================] - 0s 2ms/step - loss: 52.6625\n",
      "Epoch 67/200\n",
      "183/183 [==============================] - 0s 2ms/step - loss: 50.2887\n",
      "Epoch 68/200\n",
      "183/183 [==============================] - 0s 2ms/step - loss: 48.1171\n",
      "Epoch 69/200\n",
      "183/183 [==============================] - 0s 2ms/step - loss: 46.1460\n",
      "Epoch 70/200\n",
      "183/183 [==============================] - 0s 2ms/step - loss: 44.3718\n",
      "Epoch 71/200\n",
      "183/183 [==============================] - 0s 2ms/step - loss: 42.7887\n",
      "Epoch 72/200\n",
      "183/183 [==============================] - 0s 2ms/step - loss: 41.3891\n",
      "Epoch 73/200\n",
      "183/183 [==============================] - 0s 2ms/step - loss: 40.1634\n",
      "Epoch 74/200\n",
      "183/183 [==============================] - 0s 2ms/step - loss: 39.1000\n",
      "Epoch 75/200\n",
      "183/183 [==============================] - 0s 2ms/step - loss: 38.1861\n",
      "Epoch 76/200\n",
      "183/183 [==============================] - 0s 2ms/step - loss: 37.4075\n",
      "Epoch 77/200\n",
      "183/183 [==============================] - 0s 2ms/step - loss: 36.7489\n",
      "Epoch 78/200\n",
      "183/183 [==============================] - 0s 2ms/step - loss: 36.1951\n",
      "Epoch 79/200\n",
      "183/183 [==============================] - 0s 2ms/step - loss: 35.7305\n",
      "Epoch 80/200\n",
      "183/183 [==============================] - 0s 2ms/step - loss: 35.3404\n",
      "Epoch 81/200\n",
      "183/183 [==============================] - 0s 2ms/step - loss: 35.0105\n",
      "Epoch 82/200\n",
      "183/183 [==============================] - 0s 2ms/step - loss: 34.7286\n",
      "Epoch 83/200\n",
      "183/183 [==============================] - 0s 2ms/step - loss: 34.4833\n",
      "Epoch 84/200\n",
      "183/183 [==============================] - 0s 2ms/step - loss: 34.2654\n",
      "Epoch 85/200\n",
      "183/183 [==============================] - 0s 2ms/step - loss: 34.0673\n",
      "Epoch 86/200\n",
      "183/183 [==============================] - 0s 2ms/step - loss: 33.8827\n",
      "Epoch 87/200\n",
      "183/183 [==============================] - 0s 2ms/step - loss: 33.7068\n",
      "Epoch 88/200\n",
      "183/183 [==============================] - 0s 2ms/step - loss: 33.5364\n",
      "Epoch 89/200\n",
      "183/183 [==============================] - 0s 2ms/step - loss: 33.3688\n",
      "Epoch 90/200\n",
      "183/183 [==============================] - 0s 2ms/step - loss: 33.2023\n",
      "Epoch 91/200\n",
      "183/183 [==============================] - 0s 2ms/step - loss: 33.0358\n",
      "Epoch 92/200\n",
      "183/183 [==============================] - 0s 2ms/step - loss: 32.8685\n",
      "Epoch 93/200\n",
      "183/183 [==============================] - 0s 2ms/step - loss: 32.7001\n",
      "Epoch 94/200\n",
      "183/183 [==============================] - 0s 2ms/step - loss: 32.5306\n",
      "Epoch 95/200\n",
      "183/183 [==============================] - 0s 2ms/step - loss: 32.3598\n",
      "Epoch 96/200\n",
      "183/183 [==============================] - 0s 2ms/step - loss: 32.1878\n",
      "Epoch 97/200\n",
      "183/183 [==============================] - 0s 2ms/step - loss: 32.0149\n",
      "Epoch 98/200\n",
      "183/183 [==============================] - 0s 2ms/step - loss: 31.8412\n",
      "Epoch 99/200\n",
      "183/183 [==============================] - 0s 2ms/step - loss: 31.6669\n",
      "Epoch 100/200\n",
      "183/183 [==============================] - 0s 2ms/step - loss: 31.4925\n",
      "Epoch 101/200\n",
      "183/183 [==============================] - 0s 2ms/step - loss: 31.3179\n",
      "Epoch 102/200\n",
      "183/183 [==============================] - 0s 2ms/step - loss: 31.1435\n",
      "Epoch 103/200\n",
      "183/183 [==============================] - 0s 2ms/step - loss: 30.9696\n",
      "Epoch 104/200\n",
      "183/183 [==============================] - 0s 2ms/step - loss: 30.7962\n",
      "Epoch 105/200\n",
      "183/183 [==============================] - 0s 2ms/step - loss: 30.6237\n",
      "Epoch 106/200\n",
      "183/183 [==============================] - 0s 2ms/step - loss: 30.4523\n",
      "Epoch 107/200\n",
      "183/183 [==============================] - 0s 2ms/step - loss: 30.2820\n",
      "Epoch 108/200\n",
      "183/183 [==============================] - 0s 2ms/step - loss: 30.1132\n",
      "Epoch 109/200\n",
      "183/183 [==============================] - 0s 2ms/step - loss: 29.9460\n",
      "Epoch 110/200\n",
      "183/183 [==============================] - 0s 2ms/step - loss: 29.7804\n",
      "Epoch 111/200\n",
      "183/183 [==============================] - 0s 2ms/step - loss: 29.6168\n",
      "Epoch 112/200\n",
      "183/183 [==============================] - 0s 2ms/step - loss: 29.4553\n",
      "Epoch 113/200\n",
      "183/183 [==============================] - 0s 2ms/step - loss: 29.2959\n",
      "Epoch 114/200\n",
      "183/183 [==============================] - 0s 2ms/step - loss: 29.1388\n",
      "Epoch 115/200\n",
      "183/183 [==============================] - 0s 2ms/step - loss: 28.9842\n",
      "Epoch 116/200\n",
      "183/183 [==============================] - 0s 2ms/step - loss: 28.8321\n",
      "Epoch 117/200\n",
      "183/183 [==============================] - 0s 2ms/step - loss: 28.6827\n",
      "Epoch 118/200\n",
      "183/183 [==============================] - 0s 2ms/step - loss: 28.5360\n",
      "Epoch 119/200\n",
      "183/183 [==============================] - 0s 2ms/step - loss: 28.3921\n",
      "Epoch 120/200\n",
      "183/183 [==============================] - 0s 2ms/step - loss: 28.2511\n",
      "Epoch 121/200\n",
      "183/183 [==============================] - 0s 2ms/step - loss: 28.1132\n",
      "Epoch 122/200\n",
      "183/183 [==============================] - 0s 2ms/step - loss: 27.9782\n",
      "Epoch 123/200\n",
      "183/183 [==============================] - 0s 2ms/step - loss: 27.8463\n",
      "Epoch 124/200\n",
      "183/183 [==============================] - 0s 2ms/step - loss: 27.7175\n",
      "Epoch 125/200\n",
      "183/183 [==============================] - 0s 2ms/step - loss: 27.5919\n",
      "Epoch 126/200\n",
      "183/183 [==============================] - 0s 2ms/step - loss: 27.4695\n",
      "Epoch 127/200\n",
      "183/183 [==============================] - 0s 2ms/step - loss: 27.3503\n",
      "Epoch 128/200\n",
      "183/183 [==============================] - 0s 2ms/step - loss: 27.2343\n",
      "Epoch 129/200\n",
      "183/183 [==============================] - 0s 2ms/step - loss: 27.1216\n",
      "Epoch 130/200\n",
      "183/183 [==============================] - 0s 2ms/step - loss: 27.0120\n",
      "Epoch 131/200\n",
      "183/183 [==============================] - 0s 2ms/step - loss: 26.9057\n",
      "Epoch 132/200\n",
      "183/183 [==============================] - 0s 2ms/step - loss: 26.8026\n",
      "Epoch 133/200\n",
      "183/183 [==============================] - 0s 2ms/step - loss: 26.7027\n",
      "Epoch 134/200\n",
      "183/183 [==============================] - 0s 2ms/step - loss: 26.6058\n",
      "Epoch 135/200\n",
      "183/183 [==============================] - 0s 2ms/step - loss: 26.5122\n",
      "Epoch 136/200\n",
      "183/183 [==============================] - 0s 2ms/step - loss: 26.4216\n",
      "Epoch 137/200\n",
      "183/183 [==============================] - 0s 2ms/step - loss: 26.3340\n",
      "Epoch 138/200\n",
      "183/183 [==============================] - 0s 2ms/step - loss: 26.2495\n",
      "Epoch 139/200\n",
      "183/183 [==============================] - 0s 2ms/step - loss: 26.1678\n",
      "Epoch 140/200\n",
      "183/183 [==============================] - 0s 2ms/step - loss: 26.0891\n",
      "Epoch 141/200\n",
      "183/183 [==============================] - 0s 2ms/step - loss: 26.0132\n",
      "Epoch 142/200\n",
      "183/183 [==============================] - 0s 2ms/step - loss: 25.9401\n",
      "Epoch 143/200\n",
      "183/183 [==============================] - 0s 2ms/step - loss: 25.8697\n",
      "Epoch 144/200\n",
      "183/183 [==============================] - 0s 2ms/step - loss: 25.8020\n",
      "Epoch 145/200\n",
      "183/183 [==============================] - 0s 2ms/step - loss: 25.7368\n",
      "Epoch 146/200\n",
      "183/183 [==============================] - 0s 2ms/step - loss: 25.6742\n",
      "Epoch 147/200\n",
      "183/183 [==============================] - 0s 2ms/step - loss: 25.6141\n",
      "Epoch 148/200\n",
      "183/183 [==============================] - 0s 2ms/step - loss: 25.5564\n",
      "Epoch 149/200\n",
      "183/183 [==============================] - 0s 2ms/step - loss: 25.5009\n",
      "Epoch 150/200\n",
      "183/183 [==============================] - 0s 2ms/step - loss: 25.4478\n",
      "Epoch 151/200\n",
      "183/183 [==============================] - 0s 2ms/step - loss: 25.3969\n",
      "Epoch 152/200\n",
      "183/183 [==============================] - 0s 2ms/step - loss: 25.3481\n",
      "Epoch 153/200\n",
      "183/183 [==============================] - 0s 2ms/step - loss: 25.3014\n",
      "Epoch 154/200\n",
      "183/183 [==============================] - 0s 2ms/step - loss: 25.2567\n",
      "Epoch 155/200\n",
      "183/183 [==============================] - 0s 2ms/step - loss: 25.2140\n",
      "Epoch 156/200\n",
      "183/183 [==============================] - 0s 2ms/step - loss: 25.1732\n",
      "Epoch 157/200\n",
      "183/183 [==============================] - 0s 2ms/step - loss: 25.1342\n",
      "Epoch 158/200\n",
      "183/183 [==============================] - 0s 2ms/step - loss: 25.0970\n",
      "Epoch 159/200\n",
      "183/183 [==============================] - 0s 2ms/step - loss: 25.0615\n",
      "Epoch 160/200\n",
      "183/183 [==============================] - 0s 2ms/step - loss: 25.0276\n",
      "Epoch 161/200\n",
      "183/183 [==============================] - 0s 2ms/step - loss: 24.9954\n",
      "Epoch 162/200\n",
      "183/183 [==============================] - 0s 2ms/step - loss: 24.9647\n",
      "Epoch 163/200\n",
      "183/183 [==============================] - 0s 2ms/step - loss: 24.9355\n",
      "Epoch 164/200\n",
      "183/183 [==============================] - 0s 2ms/step - loss: 24.9077\n",
      "Epoch 165/200\n",
      "183/183 [==============================] - 0s 2ms/step - loss: 24.8813\n",
      "Epoch 166/200\n",
      "183/183 [==============================] - 0s 2ms/step - loss: 24.8563\n",
      "Epoch 167/200\n",
      "183/183 [==============================] - 0s 2ms/step - loss: 24.8326\n",
      "Epoch 168/200\n",
      "183/183 [==============================] - 0s 2ms/step - loss: 24.8100\n",
      "Epoch 169/200\n",
      "183/183 [==============================] - 0s 2ms/step - loss: 24.7887\n",
      "Epoch 170/200\n",
      "183/183 [==============================] - 0s 2ms/step - loss: 24.7685\n",
      "Epoch 171/200\n",
      "183/183 [==============================] - 0s 2ms/step - loss: 24.7493\n",
      "Epoch 172/200\n",
      "183/183 [==============================] - 0s 2ms/step - loss: 24.7312\n",
      "Epoch 173/200\n",
      "183/183 [==============================] - 0s 2ms/step - loss: 24.7141\n",
      "Epoch 174/200\n",
      "183/183 [==============================] - 0s 2ms/step - loss: 24.6979\n",
      "Epoch 175/200\n",
      "183/183 [==============================] - 0s 2ms/step - loss: 24.6826\n",
      "Epoch 176/200\n",
      "183/183 [==============================] - 0s 2ms/step - loss: 24.6681\n",
      "Epoch 177/200\n",
      "183/183 [==============================] - 0s 2ms/step - loss: 24.6544\n",
      "Epoch 178/200\n",
      "183/183 [==============================] - 0s 2ms/step - loss: 24.6415\n",
      "Epoch 179/200\n",
      "183/183 [==============================] - 0s 2ms/step - loss: 24.6293\n",
      "Epoch 180/200\n",
      "183/183 [==============================] - 0s 2ms/step - loss: 24.6178\n",
      "Epoch 181/200\n",
      "183/183 [==============================] - 0s 2ms/step - loss: 24.6068\n",
      "Epoch 182/200\n",
      "183/183 [==============================] - 0s 2ms/step - loss: 24.5965\n",
      "Epoch 183/200\n",
      "183/183 [==============================] - 0s 2ms/step - loss: 24.5866\n",
      "Epoch 184/200\n",
      "183/183 [==============================] - 0s 2ms/step - loss: 24.5774\n",
      "Epoch 185/200\n",
      "183/183 [==============================] - 0s 2ms/step - loss: 24.5685\n",
      "Epoch 186/200\n",
      "183/183 [==============================] - 0s 2ms/step - loss: 24.5602\n",
      "Epoch 187/200\n",
      "183/183 [==============================] - 0s 2ms/step - loss: 24.5522\n",
      "Epoch 188/200\n",
      "183/183 [==============================] - 0s 2ms/step - loss: 24.5446\n",
      "Epoch 189/200\n",
      "183/183 [==============================] - 0s 2ms/step - loss: 24.5374\n",
      "Epoch 190/200\n",
      "183/183 [==============================] - 0s 2ms/step - loss: 24.5305\n",
      "Epoch 191/200\n",
      "183/183 [==============================] - 0s 2ms/step - loss: 24.5239\n",
      "Epoch 192/200\n",
      "183/183 [==============================] - 0s 2ms/step - loss: 24.5176\n",
      "Epoch 193/200\n",
      "183/183 [==============================] - 0s 2ms/step - loss: 24.5116\n",
      "Epoch 194/200\n",
      "183/183 [==============================] - 0s 2ms/step - loss: 24.5058\n",
      "Epoch 195/200\n",
      "183/183 [==============================] - 0s 2ms/step - loss: 24.5003\n",
      "Epoch 196/200\n",
      "183/183 [==============================] - 0s 2ms/step - loss: 24.4950\n",
      "Epoch 197/200\n",
      "183/183 [==============================] - 0s 2ms/step - loss: 24.4899\n",
      "Epoch 198/200\n",
      "183/183 [==============================] - 0s 2ms/step - loss: 24.4849\n",
      "Epoch 199/200\n",
      "183/183 [==============================] - 0s 2ms/step - loss: 24.4802\n",
      "Epoch 200/200\n",
      "183/183 [==============================] - 0s 2ms/step - loss: 24.4756\n"
     ]
    }
   ],
   "source": [
    "from tensorflow.keras.optimizers import Adam\n",
    "from keras.models import Sequential\n",
    "from keras.layers import Dense\n",
    "import keras.backend as K\n",
    "from keras.callbacks import EarlyStopping\n",
    "from keras.models import load_model\n",
    "from keras.layers import LSTM\n",
    "K.clear_session()\n",
    "model_lstm = Sequential()\n",
    "model_lstm.add(LSTM(16, input_shape=(1, X_train.shape[1]), activation='relu', return_sequences=False))\n",
    "model_lstm.add(Dense(1))\n",
    "model_lstm.compile(loss='mean_squared_error', optimizer='adam')\n",
    "early_stop = EarlyStopping(monitor='loss', patience=5, verbose=1)\n",
    "history_model_lstm = model_lstm.fit(X_tr_t, y_train, epochs=200, batch_size=8, verbose=1, shuffle=False, callbacks=[early_stop])"
   ]
  },
  {
   "cell_type": "markdown",
   "metadata": {},
   "source": [
    "# Evaluation of Model"
   ]
  },
  {
   "cell_type": "code",
   "execution_count": 359,
   "metadata": {},
   "outputs": [
    {
     "name": "stdout",
     "output_type": "stream",
     "text": [
      "The R2 score on the Train set is:\t0.997\n",
      "The R2 score on the Test set is:\t0.878\n"
     ]
    }
   ],
   "source": [
    "y_pred_test_lstm = model_lstm.predict(X_tst_t)\n",
    "y_train_pred_lstm = model_lstm.predict(X_tr_t)\n",
    "print(\"The R2 score on the Train set is:\\t{:0.3f}\".format(r2_score(y_train, y_train_pred_lstm)))\n",
    "r2_train = r2_score(y_train, y_train_pred_lstm)\n",
    "\n",
    "print(\"The R2 score on the Test set is:\\t{:0.3f}\".format(r2_score(y_test, y_pred_test_lstm)))\n",
    "r2_test = r2_score(y_test, y_pred_test_lstm)\n"
   ]
  },
  {
   "cell_type": "markdown",
   "metadata": {},
   "source": [
    "## Predictions made by LSTM"
   ]
  },
  {
   "cell_type": "code",
   "execution_count": 360,
   "metadata": {},
   "outputs": [
    {
     "name": "stdout",
     "output_type": "stream",
     "text": [
      "145/145 [==============================] - 0s 997us/step - loss: 29.4188\n"
     ]
    }
   ],
   "source": [
    "score_lstm= model_lstm.evaluate(X_tst_t, y_test, batch_size=1)"
   ]
  },
  {
   "cell_type": "code",
   "execution_count": 392,
   "metadata": {
    "scrolled": true
   },
   "outputs": [
    {
     "name": "stdout",
     "output_type": "stream",
     "text": [
      "LSTM Score: 29.418791\n"
     ]
    }
   ],
   "source": [
    "print('LSTM Score: %f'%score_lstm)"
   ]
  },
  {
   "cell_type": "code",
   "execution_count": 363,
   "metadata": {},
   "outputs": [],
   "source": [
    "y_pred_test_LSTM = model_lstm.predict(X_tst_t)"
   ]
  },
  {
   "cell_type": "markdown",
   "metadata": {},
   "source": [
    "# LSTM's Prediction Visual"
   ]
  },
  {
   "cell_type": "code",
   "execution_count": 400,
   "metadata": {},
   "outputs": [
    {
     "data": {
      "image/png": "[encoded data removed]",
      "text/plain": [
       "<Figure size 432x288 with 1 Axes>"
      ]
     },
     "metadata": {
      "needs_background": "light"
     },
     "output_type": "display_data"
    }
   ],
   "source": [
    "plt.plot(y_test,color='red', label='True Value')\n",
    "plt.plot(y_pred_test_LSTM, color='green', label='LSTM Value')\n",
    "plt.title(\"LSTM Prediction Graph\")\n",
    "plt.xlabel('Observed Value')\n",
    "plt.ylabel('Price Scaled')\n",
    "plt.legend()\n",
    "plt.show()\n"
   ]
  },
  {
   "cell_type": "code",
   "execution_count": null,
   "metadata": {},
   "outputs": [],
   "source": []
  }
 ],
 "metadata": {
  "kernelspec": {
   "display_name": "Python 3",
   "language": "python",
   "name": "python3"
  },
  "language_info": {
   "codemirror_mode": {
    "name": "ipython",
    "version": 3
   },
   "file_extension": ".py",
   "mimetype": "text/x-python",
   "name": "python",
   "nbconvert_exporter": "python",
   "pygments_lexer": "ipython3",
   "version": "3.8.8"
  }
 },
 "nbformat": 4,
 "nbformat_minor": 2
}
